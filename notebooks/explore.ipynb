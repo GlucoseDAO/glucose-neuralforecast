{
 "cells": [
  {
   "cell_type": "markdown",
   "id": "133a4ebc",
   "metadata": {},
   "source": [
    "# Expploratory notebook"
   ]
  },
  {
   "cell_type": "code",
   "execution_count": 1,
   "id": "81ec293a",
   "metadata": {},
   "outputs": [
    {
     "name": "stdout",
     "output_type": "stream",
     "text": [
      "data\n",
      "\toutput\n",
      "\tinput\n",
      "\t\tlivia_glucose.csv\n"
     ]
    }
   ],
   "source": [
    "from pathlib import Path\n",
    "from pycomfort.files import tprint\n",
    "base = Path.cwd().parent if Path.cwd().name == 'notebooks' else Path.cwd()\n",
    "\n",
    "data_dir = base / 'data'\n",
    "input_dir = data_dir / 'input'\n",
    "output_dir = data_dir / 'output'\n",
    "tprint(data_dir)\n",
    "# Load data\n",
    "\n",
    "\n",
    "\n"
   ]
  },
  {
   "cell_type": "code",
   "execution_count": 3,
   "id": "8172fbe7",
   "metadata": {},
   "outputs": [
    {
     "data": {
      "text/html": [
       "<div><style>\n",
       ".dataframe > thead > tr,\n",
       ".dataframe > tbody > tr {\n",
       "  text-align: right;\n",
       "  white-space: pre-wrap;\n",
       "}\n",
       "</style>\n",
       "<small>shape: (5, 8)</small><table border=\"1\" class=\"dataframe\"><thead><tr><th>sequence_id</th><th>Timestamp (YYYY-MM-DDThh:mm:ss)</th><th>Event Type</th><th>Glucose Value (mg/dL)</th><th>Fast-Acting Insulin Value (u)</th><th>Long-Acting Insulin Value (u)</th><th>Carb Value (grams)</th><th>flow_amount</th></tr><tr><td>i64</td><td>str</td><td>str</td><td>f64</td><td>f64</td><td>f64</td><td>str</td><td>str</td></tr></thead><tbody><tr><td>0</td><td>&quot;2024-03-16T02:27:00&quot;</td><td>&quot;EGV&quot;</td><td>232.0</td><td>null</td><td>null</td><td>null</td><td>null</td></tr><tr><td>0</td><td>&quot;2024-03-16T02:32:00&quot;</td><td>&quot;EGV&quot;</td><td>231.0</td><td>null</td><td>null</td><td>null</td><td>null</td></tr><tr><td>0</td><td>&quot;2024-03-16T02:37:00&quot;</td><td>&quot;EGV&quot;</td><td>229.0</td><td>null</td><td>null</td><td>null</td><td>null</td></tr><tr><td>0</td><td>&quot;2024-03-16T02:42:00&quot;</td><td>&quot;EGV&quot;</td><td>223.0</td><td>null</td><td>null</td><td>null</td><td>null</td></tr><tr><td>0</td><td>&quot;2024-03-16T02:47:00&quot;</td><td>&quot;EGV&quot;</td><td>216.0</td><td>null</td><td>null</td><td>null</td><td>null</td></tr></tbody></table></div>"
      ],
      "text/plain": [
       "shape: (5, 8)\n",
       "┌─────────────┬─────────────┬───────┬─────────┬─────────────┬────────────┬────────────┬────────────┐\n",
       "│ sequence_id ┆ Timestamp   ┆ Event ┆ Glucose ┆ Fast-Acting ┆ Long-Actin ┆ Carb Value ┆ flow_amoun │\n",
       "│ ---         ┆ (YYYY-MM-DD ┆ Type  ┆ Value   ┆ Insulin     ┆ g Insulin  ┆ (grams)    ┆ t          │\n",
       "│ i64         ┆ Thh:mm:ss…  ┆ ---   ┆ (mg/dL) ┆ Value (u)   ┆ Value (u)  ┆ ---        ┆ ---        │\n",
       "│             ┆ ---         ┆ str   ┆ ---     ┆ ---         ┆ ---        ┆ str        ┆ str        │\n",
       "│             ┆ str         ┆       ┆ f64     ┆ f64         ┆ f64        ┆            ┆            │\n",
       "╞═════════════╪═════════════╪═══════╪═════════╪═════════════╪════════════╪════════════╪════════════╡\n",
       "│ 0           ┆ 2024-03-16T ┆ EGV   ┆ 232.0   ┆ null        ┆ null       ┆ null       ┆ null       │\n",
       "│             ┆ 02:27:00    ┆       ┆         ┆             ┆            ┆            ┆            │\n",
       "│ 0           ┆ 2024-03-16T ┆ EGV   ┆ 231.0   ┆ null        ┆ null       ┆ null       ┆ null       │\n",
       "│             ┆ 02:32:00    ┆       ┆         ┆             ┆            ┆            ┆            │\n",
       "│ 0           ┆ 2024-03-16T ┆ EGV   ┆ 229.0   ┆ null        ┆ null       ┆ null       ┆ null       │\n",
       "│             ┆ 02:37:00    ┆       ┆         ┆             ┆            ┆            ┆            │\n",
       "│ 0           ┆ 2024-03-16T ┆ EGV   ┆ 223.0   ┆ null        ┆ null       ┆ null       ┆ null       │\n",
       "│             ┆ 02:42:00    ┆       ┆         ┆             ┆            ┆            ┆            │\n",
       "│ 0           ┆ 2024-03-16T ┆ EGV   ┆ 216.0   ┆ null        ┆ null       ┆ null       ┆ null       │\n",
       "│             ┆ 02:47:00    ┆       ┆         ┆             ┆            ┆            ┆            │\n",
       "└─────────────┴─────────────┴───────┴─────────┴─────────────┴────────────┴────────────┴────────────┘"
      ]
     },
     "execution_count": 3,
     "metadata": {},
     "output_type": "execute_result"
    }
   ],
   "source": [
    "import polars as pl\n",
    "df = pl.read_csv(input_dir / 'livia_glucose.csv')\n",
    "df.head()\n"
   ]
  }
 ],
 "metadata": {
  "kernelspec": {
   "display_name": ".venv",
   "language": "python",
   "name": "python3"
  },
  "language_info": {
   "codemirror_mode": {
    "name": "ipython",
    "version": 3
   },
   "file_extension": ".py",
   "mimetype": "text/x-python",
   "name": "python",
   "nbconvert_exporter": "python",
   "pygments_lexer": "ipython3",
   "version": "3.13.5"
  }
 },
 "nbformat": 4,
 "nbformat_minor": 5
}
